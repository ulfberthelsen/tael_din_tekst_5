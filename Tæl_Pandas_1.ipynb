{
 "cells": [
  {
   "cell_type": "markdown",
   "metadata": {},
   "source": [
    "# Dataframes med Pandas\n",
    "***\n",
    "***\n",
    "Keywords: `dataframes`, `dependencies`, `metadata`, `lister`, `dictionaries`, `rows`, `columns`, `libraries`\n",
    "\n",
    "Nye Python-udtryk: `import`,`pandas`, `numpy`, `os`, `DataFrame`, `pd.read_csv`, `.herad()`, `.tail()`\n",
    "***\n",
    "***\n",
    "Uanset om vores `data` består af litterære tekster, tweets, e-mails, spørgskemabesvarelser eller tal, er `data frames`(tabeller/regneark) den mest effektive måde at håndtere dem på.\n",
    "\n",
    "Ofte (men ikke altid) skelner vi mellem `data` og `metadata`. Metadata er *data om data*. I vores tilfælde vil teksterne være vores **data**, og information om teksterne, fx *forfatter*, *titel* og *årstal*, vil være vores *metadata*.\n",
    "\n"
   ]
  },
  {
   "cell_type": "markdown",
   "metadata": {},
   "source": [
    "## Libraries\n",
    "Når vi skal lave mere avancerede analyser, har vi ofte brug for at importere ekstra funktionalitet. Vi kan tænke på Python som maskinen, der får det hele til at spille sammen. I Python er der allerede en masse indbyggede funktioner, fx `print()`, `len()`, `open()`, men hvis vi skal lave mere avancerede ting, har vi brug for at importere softwarepakker med special-funktioner. Disse pakker kaldes `libraries`, og der findes libraries til stort set alle formål, fx *statistik*, *grafik* og *tekstanalyse*.\n",
    "\n",
    "Vi importerer libraries med kommandoen `import`. Den vigtigste pakke for at kunne arbejde med *data frames* er `Pandas`. Nogle gange har vi imidlertid brug for at importere mere en et library, fordi nogle libraries bygger på funktionaliteten i  andre libraries. Dette kaldes `dependencies`. Til opgaverne nedenfor skal, ud over `Pandas`, også bruge de libraries, der hedder `os`og `numpy`.\n",
    "\n",
    "I kan læse mere om `Pandas`og `Numpy` her:\n",
    "\n",
    "[Link til Pandas documentation](https://pandas.pydata.org/pandas-docs/stable/)\n",
    "\n",
    "[Link til Numpy documentation](https://numpy.org/)\n",
    "\n"
   ]
  },
  {
   "cell_type": "markdown",
   "metadata": {},
   "source": [
    "### Importér libraries\n",
    "Vi begynder med at importere `os`, `Numpy` og `Pandas` ved hjælp af `import`-kommandoen.\n",
    "\n",
    "`np` og `pd` er blot variabelnavne. Når vi bruger `import pandas as pd`, kan vi efterfølgende nøjes med at henvise til Pandas-pakken med `pd`."
   ]
  },
  {
   "cell_type": "code",
   "execution_count": null,
   "metadata": {},
   "outputs": [],
   "source": [
    "import os                      # os tillader os bl.a. finder filplaceringer på computeren\n",
    "import numpy as np             # Numpy leverer noget af matematikken, der ligger under Pandas \n",
    "import pandas as pd            # Pandas tillader os at importere, oprette og manipulere data frames\n",
    "from pandas import DataFrame   # Nogle libraries har under-biblioteker. Underbiblioteker importeres med from-kommandoen"
   ]
  },
  {
   "cell_type": "markdown",
   "metadata": {},
   "source": [
    "### Importér datasæt\n",
    "Hvis vi skal importere et allerede eksisterende datasæt, bruger vi blot `Pandas`-kommandoen `pd.read`. Med denne kommando kan vi importere forskellige data-formater, fx .csv-filer (csv = comma-separated values) med kommandoen `pd.read_csv` eller Microsoft Excel-filer med kommandoen `pd.read_excel`.\n",
    "\n",
    "I eksemplet nedenfor indlæses et datasær i csv-format. En csv-fil er et meget almindeligt format, og er i virkeligheden bare en plain-tekst-fil, hvor værdierne i datasættet er adskilt af komma. Det er smart, fordi tekstfiler ikke fylder ret meget. I visse tilfælde kan det også være en fordel at kunne tilrette sit datasæt ved fx at åbne det som tekst i et tekstbehandlingsprogram. Hvis I åbner filen `aakjaer.csv` i Windows Notesblok, vil de første linjer se således ud: \n",
    "\n",
    "Titel,  \tÅr,  \tSted, \tTekst<br>\n",
    "I NATTENS TIME, \t1885, \tukendt, \tJa pust du kun du Nattevind<br>\n",
    "TORDEN, \t1887, \tTastumgaard, \tJeg sidder og stirrer paa Tordenskyen<br>\n",
    "\n",
    "Af forskellige grunde, kan det nogle gange være nødvendigt at adskille værdierne med semikolon i stedet for komma. Hvis dette er tilfældet, tilføjer vi `sep=';'` efter filnavnet.\n",
    "\n",
    "Kommasepareret csv-fil åbnes med `pd.read_csv(\"aakjaer.csv\")`<br>\n",
    "Semikolonsepareret csv-fil åbnes med `pd.read_csv(\"aakjaer.csv\", sep=';')`\n",
    "\n",
    "I eksemplet nedenfor åbnes en kommaseparet csv-fil og gemmes under variabel navnet `df`(for 'data frame' ... men I kan kalde det hvad I vil)."
   ]
  },
  {
   "cell_type": "code",
   "execution_count": null,
   "metadata": {},
   "outputs": [],
   "source": [
    "df = pd.read_csv(\"aakjaer.csv\")"
   ]
  },
  {
   "cell_type": "markdown",
   "metadata": {},
   "source": [
    "Inspicér datasættet ved at indtaste variabelnavnet i kodefeltet nedenfor."
   ]
  },
  {
   "cell_type": "code",
   "execution_count": null,
   "metadata": {},
   "outputs": [],
   "source": []
  },
  {
   "cell_type": "markdown",
   "metadata": {},
   "source": [
    "### Opgave 1: Simpelt håndkodet datasæt\n",
    "Der er mange måder - afhængigt af formål og datatype - at lave en dataframe vha. af Pandas. Den simpleste måde er at konstruere data-framen ved at sammenføje lister.\n",
    "\n",
    "Vi har allerede prøvet at arbejde med lister, og lister kan være en fin måde at arbejde med tekster og metadata - særligt hvis datasættet ikke er så stort, eller hvis teksterne ikke er så lange.\n",
    "\n",
    "**Diskutér** hvad kodesekvensen nedenfor resulterer i:"
   ]
  },
  {
   "cell_type": "code",
   "execution_count": null,
   "metadata": {},
   "outputs": [],
   "source": [
    "txt_1 = [\"H. C. Andersen\", \"Et eventyr\", \"1864\",\"Der var en gang\"]\n",
    "txt_2 = [\"H. C. Andersen\", \"Et rigtigt eventyr\", \"1865\",\"Og for enden af den gang\"]\n",
    "txt_3 = [\"H. C. Andersen\", \"Et helt rigtigt eventyr\", \"1866\",\"Var der en dør\"]"
   ]
  },
  {
   "cell_type": "markdown",
   "metadata": {},
   "source": [
    "Inspicér en af variablerne ved at taste variabelnavnet i kodefeltet nedenfor. Hvile datatyper er der tale om?"
   ]
  },
  {
   "cell_type": "code",
   "execution_count": null,
   "metadata": {},
   "outputs": [],
   "source": []
  },
  {
   "cell_type": "markdown",
   "metadata": {},
   "source": [
    "For overskuelighedens skyld samler vi de tre lister i en liste af lister under variabelnavnet `hca_txtr`. Dette er ikke strengt nødvendigt, men bidrager til overskueligheden, hvis datasættet indeholder mange tekster."
   ]
  },
  {
   "cell_type": "code",
   "execution_count": null,
   "metadata": {},
   "outputs": [],
   "source": [
    "hca_txtr = [txt_1, txt_2, txt_3]"
   ]
  },
  {
   "cell_type": "markdown",
   "metadata": {},
   "source": [
    "Inspicér variablen ved at indtaste variabelnavnet i feltet nedenfor:"
   ]
  },
  {
   "cell_type": "code",
   "execution_count": null,
   "metadata": {},
   "outputs": [],
   "source": []
  },
  {
   "cell_type": "markdown",
   "metadata": {},
   "source": [
    "Herefter kan vi konstruere en `data-frame` vha. kommandoen `DataFrame`. I patentesen specificeres det, at data skal hentes fra variablen `hca_txtr`, og at kolonne-navnene skal være *Forfatter*, *titel*, *Udgivelsesår*\n",
    "og *Tekst*."
   ]
  },
  {
   "cell_type": "code",
   "execution_count": null,
   "metadata": {},
   "outputs": [],
   "source": [
    "df_hca = DataFrame(data = hca_txtr, columns = ['Forfatter','Titel','Udgivelsesår', 'Tekst'])"
   ]
  },
  {
   "cell_type": "markdown",
   "metadata": {},
   "source": [
    "Inspicér data-framen ved at indtaste variabelnavnet nedenfor:"
   ]
  },
  {
   "cell_type": "code",
   "execution_count": null,
   "metadata": {},
   "outputs": [],
   "source": []
  },
  {
   "cell_type": "markdown",
   "metadata": {},
   "source": [
    "### Opgave 2: Lav en dataframe med importerede tekstfiler\n",
    "Hvis vi skal arbejde med mange filer, kan vi med fordel importere tekstfilerne ved hjælp af et loop.\n",
    "\n",
    "I eksemplet nedenfor importeres tekstfilerne først til en liste. Herefter kombineres denne liste med metadata-listerne til en samlet data-frame.\n",
    "\n",
    "For at kunne 'kigge' i en mappe har vi brug for kommandoer fra `os`-pakken, som vi importerede indledningsvis. Kommandoen `os.scandir()` giver Python adgang til den fil-placereing, der angives i parentesen. Kommandoerne `open()` og `.append()` kender vi fra sidste gang.\n",
    "\n",
    "Vi finder det nøjagtige sti-navn ved at gå ind i **stifinder**, markere den mappe, hvis sti-navn vi skal bruge, og derefter klikke på det gule ikon i adresselinjen. Herefter kan vi kopiere sti-navnet og indsætte det i parentesen nedenfor. Det stinavn, der er angivet nedenfor, henviser til en placering på **min computer**, så det skal I **skifte ud**.\n",
    "\n",
    "Sti-navnet skal stå i anførselstegn, og det er vigtigt, at der står `r` foran stinavnet (r = raw). Dette angiver at strengen skal læses som rå tekst, dvs. at Python fx skal læse tegnet `:\\` som bogstavtegn og **ikke** som kode.\n",
    "\n",
    "**Diskutér** hvad der sker i kodesekvensen nedenfor. Kan i læse og forstå alle delene (husk at læse linjerne bagfra)?"
   ]
  },
  {
   "cell_type": "code",
   "execution_count": null,
   "metadata": {},
   "outputs": [],
   "source": [
    "romaner = []\n",
    "\n",
    "for roman in os.scandir(r'C:\\Users\\au100440\\Desktop\\1_Tæl din tekst\\Jupyter_scripts\\Bang'):\n",
    "    x = open(roman, encoding = \"utf8\")\n",
    "    romaner.append(x.read())"
   ]
  },
  {
   "cell_type": "markdown",
   "metadata": {},
   "source": [
    "Hvis loopet fungerer korrekt, har vi nu en liste, der indeholder tolv meget lange tekster. Der er meget tekst, og det kan derfor være vanskeligt at overskue listen ved blot at inspicere variablen. Prøv:"
   ]
  },
  {
   "cell_type": "code",
   "execution_count": null,
   "metadata": {},
   "outputs": [],
   "source": []
  },
  {
   "cell_type": "markdown",
   "metadata": {},
   "source": [
    "Vi kan dog tjekke det på andre måder. Med `len(romaner)` kan vi tjekke at alle 12 tekster er med:"
   ]
  },
  {
   "cell_type": "code",
   "execution_count": null,
   "metadata": {},
   "outputs": [],
   "source": [
    "len(romaner)"
   ]
  },
  {
   "cell_type": "markdown",
   "metadata": {},
   "source": [
    "Og med det lille loop nedenfor, kan vi tjekke om størrelsen på teksterne ser rimelige ud. \n",
    "\n",
    "**Hvad** tælles der i loopet?"
   ]
  },
  {
   "cell_type": "code",
   "execution_count": null,
   "metadata": {},
   "outputs": [],
   "source": [
    "for tekst in romaner:\n",
    "    print(len(tekst))"
   ]
  },
  {
   "cell_type": "markdown",
   "metadata": {},
   "source": [
    "Vi kan også tjekke **datatypen** på de 12 elementer, der gemt på listen."
   ]
  },
  {
   "cell_type": "code",
   "execution_count": null,
   "metadata": {},
   "outputs": [],
   "source": [
    "for tekst in romaner:\n",
    "    print(type(tekst))"
   ]
  },
  {
   "cell_type": "markdown",
   "metadata": {},
   "source": [
    "### Metadata\n",
    "Afhængigt af hvorfra ens data stammer. Kan metadata komme i forskellige formater. I dette tilfælde er teksterne downloadede fra [Project Guthenberg's](http://www.gutenberg.org/) hjemmside, og der er ingen medfølgende metadata. Når der ikke er tale om flere tekster, er det imidlertid let at håndkode lister med de metadata, vi skal bruge.\n",
    "\n",
    "Da Hermen Bang er forfatter til alle 12 tekster, skal vi bruge en liste, der indholder Strengen 'Herman Bang' 12 gange. Dette klares på følgende måde:"
   ]
  },
  {
   "cell_type": "code",
   "execution_count": null,
   "metadata": {},
   "outputs": [],
   "source": [
    "forfatter = ['Herman Bang']*12"
   ]
  },
  {
   "cell_type": "markdown",
   "metadata": {},
   "source": [
    "**Inspicér** variablen."
   ]
  },
  {
   "cell_type": "code",
   "execution_count": null,
   "metadata": {},
   "outputs": [],
   "source": []
  },
  {
   "cell_type": "markdown",
   "metadata": {},
   "source": [
    "**Hvad** bliver resultatet, hvis vi sætter `*12` inden for de firkantede parenteser?"
   ]
  },
  {
   "cell_type": "code",
   "execution_count": null,
   "metadata": {},
   "outputs": [],
   "source": []
  },
  {
   "cell_type": "markdown",
   "metadata": {},
   "source": [
    "Vi skal også bruge en liste med teksternes **titler**. Hvis I selv håndkoder metadata på denne måde, er det vigtigt at være opmærksom på, at informationerne kommer i den **rigtige rækkefølge**, så de kommer til at matche de rigtige tekster, når de indsættes i data-framen."
   ]
  },
  {
   "cell_type": "code",
   "execution_count": null,
   "metadata": {},
   "outputs": [],
   "source": [
    "titler = [\"Det graa hus\", \"Det hvide hus\", \"Enkens søn\", \"Excentriske noveller\", \"Faedra\", \"Haabløse slægter\", \"Hendes højhed\", \"Ludvigsbakke\", \"Min gamle kammerat\", \"Stuk\", \"Tine\", \"Ved vejen\"]"
   ]
  },
  {
   "cell_type": "markdown",
   "metadata": {},
   "source": [
    "Herefter kan vi lave dataframe ved hjælp af `DataFrame()`-kommandoen.\n",
    "\n",
    "I eksemplet nedenfor konstrueres data-framen ved hjælp af såkaldte `dictionaries`, der kan kendes på Tuborg-parenteserne `{ }`. I kan tænke på *dictionaries* som en måde at lave en liste over variabel-navne med tilhørende værdier. Første led i en dictionary kaldes dens `key`, og andet led kaldes dens `value`.\n",
    "\n",
    "I eksemplet nedenfor kombinerer vi to dictionaries til en data-frame. Den første har strengen `'Titler'` som *key* og listen `titler`som *value*, og den anden har `Key/Value`-parret `'Tekst'` og `romaner`.\n",
    "\n",
    "Når vi kontruerer vores dataframe, bliver `Key` til navnet på kolonnen, mens indholdet af listerne indlæses som værdier.\n",
    "\n"
   ]
  },
  {
   "cell_type": "code",
   "execution_count": null,
   "metadata": {},
   "outputs": [],
   "source": [
    "df_bang = DataFrame({'Titler': titler,'Tekst':romaner})"
   ]
  },
  {
   "cell_type": "markdown",
   "metadata": {},
   "source": [
    "Inspicer data-framen ved at indtaste variabelnavnet i kodefeltet nedenfor:"
   ]
  },
  {
   "cell_type": "code",
   "execution_count": null,
   "metadata": {},
   "outputs": [],
   "source": []
  },
  {
   "cell_type": "markdown",
   "metadata": {},
   "source": [
    "# Vigtigt!\n",
    "Vær opmærksom på at de to dictonaries indlæses som **kolonner** (lodret). I opgaver 1, hvor vi brugte lister, blev listerne indlæst som **rækker** (vandret)."
   ]
  },
  {
   "cell_type": "markdown",
   "metadata": {},
   "source": [
    "### Tilføj kolonne\n",
    "Vi kan let tilføje en ekstra kolonne. I eksemplet nedenfor tilføjes **titlen** på den nye kolonne i de firkantede parenteser, mens **værdierne** hentes fra listen `forfatter`, som vi lavede ovenfor."
   ]
  },
  {
   "cell_type": "code",
   "execution_count": null,
   "metadata": {},
   "outputs": [],
   "source": [
    "df_bang['Forfatter'] = forfatter"
   ]
  },
  {
   "cell_type": "markdown",
   "metadata": {},
   "source": [
    "Inspicer den **opdaterede** data-frame ved at indtaste variabelnavnet i kodefeltet nedenfor:"
   ]
  },
  {
   "cell_type": "code",
   "execution_count": null,
   "metadata": {},
   "outputs": [],
   "source": []
  },
  {
   "cell_type": "markdown",
   "metadata": {},
   "source": [
    "Vi kan også let ændre rækkfølgen af kolonnerne. \n",
    "\n",
    "**Diskutér** hvad kodesekvenser nedenfor gør:"
   ]
  },
  {
   "cell_type": "code",
   "execution_count": null,
   "metadata": {},
   "outputs": [],
   "source": [
    "df_bang = df_bang[['Forfatter', 'Titler', 'Tekst']]"
   ]
  },
  {
   "cell_type": "markdown",
   "metadata": {},
   "source": [
    "Inspicer data-framen ved at indtaste variabelnavnet i kodefeltet nedenfor:"
   ]
  },
  {
   "cell_type": "code",
   "execution_count": null,
   "metadata": {},
   "outputs": [],
   "source": []
  },
  {
   "cell_type": "markdown",
   "metadata": {},
   "source": [
    "Hvis vi arbejder med meget store data-frames, kan vi nøjes med at se enten de **første** eller de **sidste** rækker ved hjælp af kommandoerne `.head()` og `.tail()`. \n",
    "\n",
    "Der vises som default fem rækker. Hvis vi vil se flere eller færre, kan antallet specificeres i parentesen."
   ]
  },
  {
   "cell_type": "code",
   "execution_count": null,
   "metadata": {},
   "outputs": [],
   "source": [
    "df_bang.head() "
   ]
  },
  {
   "cell_type": "code",
   "execution_count": null,
   "metadata": {},
   "outputs": [],
   "source": [
    "df_bang.tail(3)"
   ]
  },
  {
   "cell_type": "markdown",
   "metadata": {},
   "source": [
    "Vi kan også `slice` et udsnit af rækker:"
   ]
  },
  {
   "cell_type": "code",
   "execution_count": null,
   "metadata": {},
   "outputs": [],
   "source": [
    "df_bang[5:9]"
   ]
  },
  {
   "cell_type": "markdown",
   "metadata": {},
   "source": [
    "Eller vælge kun at se **udvalgte kolonner**:"
   ]
  },
  {
   "cell_type": "code",
   "execution_count": null,
   "metadata": {},
   "outputs": [],
   "source": [
    "df_bang[\"Forfatter\"]"
   ]
  },
  {
   "cell_type": "markdown",
   "metadata": {},
   "source": [
    "Husk **dobbelt up** på de firkantede parenteser, hvis I vil se mere en én kolonne."
   ]
  },
  {
   "cell_type": "code",
   "execution_count": null,
   "metadata": {},
   "outputs": [],
   "source": [
    "df_bang[[\"Forfatter\", \"Titler\"]]"
   ]
  },
  {
   "cell_type": "markdown",
   "metadata": {},
   "source": [
    "### Ekstra-opgave\n",
    "Hvis I har tid tilovers, kan I prøve at undersøge, hvornår romanerne er udgivet, og tilføje en kolonne med **udgivelsesår** til data-framen."
   ]
  },
  {
   "cell_type": "code",
   "execution_count": null,
   "metadata": {},
   "outputs": [],
   "source": []
  }
 ],
 "metadata": {
  "kernelspec": {
   "display_name": "Python 3",
   "language": "python",
   "name": "python3"
  },
  "language_info": {
   "codemirror_mode": {
    "name": "ipython",
    "version": 3
   },
   "file_extension": ".py",
   "mimetype": "text/x-python",
   "name": "python",
   "nbconvert_exporter": "python",
   "pygments_lexer": "ipython3",
   "version": "3.8.3"
  }
 },
 "nbformat": 4,
 "nbformat_minor": 4
}
